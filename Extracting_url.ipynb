{
 "cells": [
  {
   "cell_type": "code",
   "execution_count": 5,
   "id": "bd513564",
   "metadata": {},
   "outputs": [
    {
     "name": "stdout",
     "output_type": "stream",
     "text": [
      "<codecs.StreamReaderWriter object at 0x000001EEE4BDB760>\n"
     ]
    }
   ],
   "source": [
    "import codecs\n",
    "import csv\n",
    "from bs4 import BeautifulSoup\n",
    "\n",
    "# open the csv file and read the rows\n",
    "with codecs.open('tweets.csv', 'r', encoding='utf-8', errors='ignore') as file:\n",
    "    rows = csv.reader(file)\n",
    "    print(file)\n",
    "    \n",
    "    # open a new file to store the URLs\n",
    "    with open('urls.txt', 'w') as outfile:\n",
    "        # loop through each row\n",
    "        for row in rows:\n",
    "            # the tweet content is typically the second column in the row, so you can access it like this:\n",
    "            tweet = row[2]\n",
    "            username = row[1]\n",
    "            \n",
    "            # parse the tweet content as HTML\n",
    "            soup = BeautifulSoup(tweet, 'html.parser')\n",
    "            \n",
    "            # find all 'a' tags in the soup\n",
    "            for a in soup.find_all('a'):\n",
    "                # get the 'href' attribute of the 'a' tag\n",
    "                url = a.get('https')\n",
    "                \n",
    "                # write the URL to the output file, along with the username\n",
    "                outfile.write(username + ',' + url + '\\n')"
   ]
  },
  {
   "cell_type": "code",
   "execution_count": null,
   "id": "8e2c7537",
   "metadata": {},
   "outputs": [],
   "source": []
  }
 ],
 "metadata": {
  "kernelspec": {
   "display_name": "Python 3 (ipykernel)",
   "language": "python",
   "name": "python3"
  },
  "language_info": {
   "codemirror_mode": {
    "name": "ipython",
    "version": 3
   },
   "file_extension": ".py",
   "mimetype": "text/x-python",
   "name": "python",
   "nbconvert_exporter": "python",
   "pygments_lexer": "ipython3",
   "version": "3.10.4"
  }
 },
 "nbformat": 4,
 "nbformat_minor": 5
}
