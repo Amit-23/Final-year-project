{
 "cells": [
  {
   "cell_type": "code",
   "execution_count": 2,
   "id": "618dfa58",
   "metadata": {},
   "outputs": [],
   "source": [
    "import pandas as pd\n",
    "\n",
    "# Read the CSV file into a DataFrame\n",
    "df = pd.read_csv('social_spam_1.2_with_url.csv')\n",
    "\n",
    "# Drop all the rows where the \"url\" column is empty\n",
    "df.dropna(subset=['url'], inplace=True)\n",
    "\n",
    "# Write the updated DataFrame to a new CSV file\n",
    "df.to_csv('social_spam_1.2_with_url_updated.csv', index=False)\n"
   ]
  },
  {
   "cell_type": "code",
   "execution_count": null,
   "id": "4981be23",
   "metadata": {},
   "outputs": [],
   "source": []
  }
 ],
 "metadata": {
  "kernelspec": {
   "display_name": "Python 3 (ipykernel)",
   "language": "python",
   "name": "python3"
  },
  "language_info": {
   "codemirror_mode": {
    "name": "ipython",
    "version": 3
   },
   "file_extension": ".py",
   "mimetype": "text/x-python",
   "name": "python",
   "nbconvert_exporter": "python",
   "pygments_lexer": "ipython3",
   "version": "3.10.4"
  }
 },
 "nbformat": 4,
 "nbformat_minor": 5
}
