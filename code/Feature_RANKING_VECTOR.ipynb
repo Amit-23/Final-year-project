{
 "cells": [
  {
   "cell_type": "code",
   "execution_count": 4,
   "id": "277fbc0a",
   "metadata": {},
   "outputs": [
    {
     "ename": "IndexError",
     "evalue": "arrays used as indices must be of integer (or boolean) type",
     "output_type": "error",
     "traceback": [
      "\u001b[1;31m---------------------------------------------------------------------------\u001b[0m",
      "\u001b[1;31mIndexError\u001b[0m                                Traceback (most recent call last)",
      "Input \u001b[1;32mIn [4]\u001b[0m, in \u001b[0;36m<cell line: 32>\u001b[1;34m()\u001b[0m\n\u001b[0;32m     30\u001b[0m \u001b[38;5;66;03m# Example usage\u001b[39;00m\n\u001b[0;32m     31\u001b[0m df \u001b[38;5;241m=\u001b[39m pd\u001b[38;5;241m.\u001b[39mread_csv(\u001b[38;5;124m'\u001b[39m\u001b[38;5;124mfinal.csv\u001b[39m\u001b[38;5;124m'\u001b[39m)\n\u001b[1;32m---> 32\u001b[0m rankings \u001b[38;5;241m=\u001b[39m \u001b[43mfeature_ranking\u001b[49m\u001b[43m(\u001b[49m\u001b[43mdf\u001b[49m\u001b[43m,\u001b[49m\u001b[43m \u001b[49m\u001b[38;5;124;43m'\u001b[39;49m\u001b[38;5;124;43mtarget\u001b[39;49m\u001b[38;5;124;43m'\u001b[39;49m\u001b[43m)\u001b[49m\n\u001b[0;32m     33\u001b[0m \u001b[38;5;28mprint\u001b[39m(rankings)\n",
      "Input \u001b[1;32mIn [4]\u001b[0m, in \u001b[0;36mfeature_ranking\u001b[1;34m(df, target_col)\u001b[0m\n\u001b[0;32m     23\u001b[0m     x \u001b[38;5;241m=\u001b[39m df[feature]\u001b[38;5;241m.\u001b[39mvalues\n\u001b[0;32m     24\u001b[0m     y \u001b[38;5;241m=\u001b[39m df[target_col]\u001b[38;5;241m.\u001b[39mvalues\n\u001b[1;32m---> 25\u001b[0m     mutual_info \u001b[38;5;241m=\u001b[39m shannon_entropy(y) \u001b[38;5;241m-\u001b[39m shannon_entropy(\u001b[43my\u001b[49m\u001b[43m[\u001b[49m\u001b[43mx\u001b[49m\u001b[43m]\u001b[49m)\n\u001b[0;32m     26\u001b[0m     rankings[feature] \u001b[38;5;241m=\u001b[39m mutual_info\n\u001b[0;32m     27\u001b[0m rankings \u001b[38;5;241m=\u001b[39m {k: v \u001b[38;5;28;01mfor\u001b[39;00m k, v \u001b[38;5;129;01min\u001b[39;00m \u001b[38;5;28msorted\u001b[39m(rankings\u001b[38;5;241m.\u001b[39mitems(), key\u001b[38;5;241m=\u001b[39m\u001b[38;5;28;01mlambda\u001b[39;00m item: item[\u001b[38;5;241m1\u001b[39m], reverse\u001b[38;5;241m=\u001b[39m\u001b[38;5;28;01mTrue\u001b[39;00m)}\n",
      "\u001b[1;31mIndexError\u001b[0m: arrays used as indices must be of integer (or boolean) type"
     ]
    }
   ],
   "source": [
    "import pandas as pd\n",
    "import numpy as np\n",
    "from math import log2\n",
    "import math\n",
    "\n",
    "def shannon_entropy(x):\n",
    "    \"\"\"\n",
    "    Calculate the Shannon entropy of a feature.\n",
    "    \"\"\"\n",
    "    counts = np.bincount(x)\n",
    "    probs = counts / len(x)\n",
    "    entropy = -np.sum(probs * np.log2(probs))\n",
    "    return entropy\n",
    "\n",
    "def feature_ranking(df, target_col):\n",
    "    \"\"\"\n",
    "    Rank the features in a DataFrame using Shannon's entropy.\n",
    "    \"\"\"\n",
    "    #features = df.drop(target_col, axis=1).columns\n",
    "    features = df.copy()\n",
    "    rankings = {}\n",
    "    for feature in features:\n",
    "        x = df[feature].values\n",
    "        y = df[target_col].values\n",
    "        mutual_info = shannon_entropy(y) - shannon_entropy(y[x])\n",
    "        rankings[feature] = mutual_info\n",
    "    rankings = {k: v for k, v in sorted(rankings.items(), key=lambda item: item[1], reverse=True)}\n",
    "    return rankings\n",
    "\n",
    "# Example usage\n",
    "df = pd.read_csv('final.csv')\n",
    "rankings = feature_ranking(df, 'target')\n",
    "print(rankings)\n"
   ]
  },
  {
   "cell_type": "code",
   "execution_count": 6,
   "id": "284816c8",
   "metadata": {},
   "outputs": [
    {
     "name": "stdout",
     "output_type": "stream",
     "text": [
      "<pandas.core.groupby.generic.DataFrameGroupBy object at 0x000001EFD67720E0>\n",
      "<pandas.core.groupby.generic.DataFrameGroupBy object at 0x000001EFC6C77070>\n",
      "<pandas.core.groupby.generic.DataFrameGroupBy object at 0x000001EFC6C77070>\n",
      "<pandas.core.groupby.generic.DataFrameGroupBy object at 0x000001EFC6C77070>\n",
      "<pandas.core.groupby.generic.DataFrameGroupBy object at 0x000001EFC6C77070>\n",
      "<pandas.core.groupby.generic.DataFrameGroupBy object at 0x000001EFC6C77070>\n",
      "<pandas.core.groupby.generic.DataFrameGroupBy object at 0x000001EFC6C77070>\n",
      "<pandas.core.groupby.generic.DataFrameGroupBy object at 0x000001EFC6C77070>\n",
      "<pandas.core.groupby.generic.DataFrameGroupBy object at 0x000001EFC6C77070>\n",
      "<pandas.core.groupby.generic.DataFrameGroupBy object at 0x000001EFC6C77070>\n",
      "<pandas.core.groupby.generic.DataFrameGroupBy object at 0x000001EFC6C77070>\n",
      "number_of_redirects     0.305326\n",
      "http_status             0.251794\n",
      "is___present            0.158864\n",
      "expiration_days_left    0.146462\n",
      "page_rank               0.137554\n",
      "inner_html              0.000000\n",
      "is_@_present            0.000000\n",
      "is_#_present            0.000000\n",
      "is_redirected           0.000000\n",
      "error_fetch             0.000000\n",
      "is_abnormal             0.000000\n",
      "dtype: float64\n"
     ]
    }
   ],
   "source": [
    "from datetime import date\n",
    "\n",
    "def entropy(data):\n",
    "    \"\"\"Calculates Shannon's entropy for a given distribution\"\"\"\n",
    "    # Compute the frequency of each class label\n",
    "    value_counts = data.value_counts()\n",
    "    # Compute the probability of each class label\n",
    "    probabilities = value_counts / len(data)\n",
    "    # Compute the entropy\n",
    "    entropy = sum(-p * math.log2(p) for p in probabilities)\n",
    "    return entropy\n",
    "\n",
    "def feature_ranking(features, target):\n",
    "    \"\"\"\n",
    "    Computes the feature ranking vector using Shannon's entropy as the scoring function.\n",
    "\n",
    "    Args:\n",
    "        features: A pandas dataframe containing the features.\n",
    "        target: A pandas series containing the target variable.\n",
    "\n",
    "    Returns:\n",
    "        A pandas series containing the feature weights (in descending order).\n",
    "    \"\"\"\n",
    "    feature_weights = {}\n",
    "    for feature in features.columns:\n",
    "        if feature not in ['id','index','text','user_id','created_at','url','expanded_url']:\n",
    "            #feature_score = features.groupby(feature)[target]\n",
    "            print(features.groupby(feature))\n",
    "            feature_score = entropy(features.groupby(feature).apply(entropy))\n",
    "            feature_weights[feature] = feature_score\n",
    "    \n",
    "    total_score = sum(feature_weights.values())\n",
    "    feature_weights = {k: v/total_score for k, v in feature_weights.items()}\n",
    "    \n",
    "    return pd.Series(feature_weights).sort_values(ascending=False)\n",
    "\n",
    "data = pd.read_csv('final.csv')\n",
    "\n",
    "data = data.drop(range(30,len(data))) #take only the first 30 data\n",
    "\n",
    "# Split the dataset into features and target\n",
    "features = data.drop('target', axis=1)\n",
    "target = data['target']\n",
    "\n",
    "# Compute the feature weights using Shannon's entropy\n",
    "feature_weights = feature_ranking(features, target)\n",
    "\n",
    "# Print the feature weights\n",
    "print(feature_weights)\n",
    "\n"
   ]
  },
  {
   "cell_type": "code",
   "execution_count": 7,
   "id": "56e7620c",
   "metadata": {},
   "outputs": [
    {
     "data": {
      "text/html": [
       "<div>\n",
       "<style scoped>\n",
       "    .dataframe tbody tr th:only-of-type {\n",
       "        vertical-align: middle;\n",
       "    }\n",
       "\n",
       "    .dataframe tbody tr th {\n",
       "        vertical-align: top;\n",
       "    }\n",
       "\n",
       "    .dataframe thead th {\n",
       "        text-align: right;\n",
       "    }\n",
       "</style>\n",
       "<table border=\"1\" class=\"dataframe\">\n",
       "  <thead>\n",
       "    <tr style=\"text-align: right;\">\n",
       "      <th></th>\n",
       "      <th>index</th>\n",
       "      <th>id</th>\n",
       "      <th>text</th>\n",
       "      <th>user_id</th>\n",
       "      <th>url</th>\n",
       "      <th>target</th>\n",
       "      <th>expanded_url</th>\n",
       "      <th>inner_html</th>\n",
       "      <th>http_status</th>\n",
       "      <th>is_@_present</th>\n",
       "      <th>is___present</th>\n",
       "      <th>is_#_present</th>\n",
       "      <th>is_redirected</th>\n",
       "      <th>number_of_redirects</th>\n",
       "      <th>error_fetch</th>\n",
       "      <th>page_rank</th>\n",
       "      <th>is_abnormal</th>\n",
       "      <th>expiration_days_left</th>\n",
       "    </tr>\n",
       "  </thead>\n",
       "  <tbody>\n",
       "    <tr>\n",
       "      <th>0</th>\n",
       "      <td>0</td>\n",
       "      <td>5.330000e+17</td>\n",
       "      <td>I Pooh - In silenzio 1968 http://t.co/ahvQxUqTws</td>\n",
       "      <td>24858289</td>\n",
       "      <td>http://t.co/ahvQxUqTws</td>\n",
       "      <td>1</td>\n",
       "      <td>https://www.youtube.com/watch?v=Y6f6_WiyWjI</td>\n",
       "      <td>b'&lt;!DOCTYPE html&gt;&lt;html style=\"font-size: 10px;...</td>\n",
       "      <td>200.0</td>\n",
       "      <td>0</td>\n",
       "      <td>1</td>\n",
       "      <td>0</td>\n",
       "      <td>1</td>\n",
       "      <td>3</td>\n",
       "      <td>0</td>\n",
       "      <td>4.0</td>\n",
       "      <td>0</td>\n",
       "      <td>324.0</td>\n",
       "    </tr>\n",
       "    <tr>\n",
       "      <th>1</th>\n",
       "      <td>1</td>\n",
       "      <td>5.330000e+17</td>\n",
       "      <td>http://t.co/HyI5EQKz6Q</td>\n",
       "      <td>24858289</td>\n",
       "      <td>http://t.co/HyI5EQKz6Q</td>\n",
       "      <td>1</td>\n",
       "      <td>https://www.facebook.com/Davideb66/posts/10205...</td>\n",
       "      <td>b'&lt;!DOCTYPE html&gt;\\n&lt;html lang=\"ml\" id=\"faceboo...</td>\n",
       "      <td>200.0</td>\n",
       "      <td>0</td>\n",
       "      <td>0</td>\n",
       "      <td>0</td>\n",
       "      <td>1</td>\n",
       "      <td>3</td>\n",
       "      <td>0</td>\n",
       "      <td>1.0</td>\n",
       "      <td>0</td>\n",
       "      <td>2924.0</td>\n",
       "    </tr>\n",
       "    <tr>\n",
       "      <th>2</th>\n",
       "      <td>2</td>\n",
       "      <td>5.330000e+17</td>\n",
       "      <td>Tutti a tavola, con il filetto di baccalà. htt...</td>\n",
       "      <td>24858289</td>\n",
       "      <td>http://t.co/aHHbFXJbIS</td>\n",
       "      <td>1</td>\n",
       "      <td>https://www.mipiaceroma.it/blog</td>\n",
       "      <td>b'&lt;!DOCTYPE html&gt;\\n&lt;!--[if IE 9 ]&gt;&lt;html class=...</td>\n",
       "      <td>200.0</td>\n",
       "      <td>0</td>\n",
       "      <td>0</td>\n",
       "      <td>0</td>\n",
       "      <td>1</td>\n",
       "      <td>5</td>\n",
       "      <td>0</td>\n",
       "      <td>44424115.0</td>\n",
       "      <td>0</td>\n",
       "      <td>287.0</td>\n",
       "    </tr>\n",
       "    <tr>\n",
       "      <th>3</th>\n",
       "      <td>3</td>\n",
       "      <td>5.320000e+17</td>\n",
       "      <td>http://t.co/NAHQ4l2pUy</td>\n",
       "      <td>24858289</td>\n",
       "      <td>http://t.co/NAHQ4l2pUy</td>\n",
       "      <td>1</td>\n",
       "      <td>https://www.facebook.com/Davideb66/posts/10205...</td>\n",
       "      <td>b'&lt;!DOCTYPE html&gt;\\n&lt;html lang=\"ml\" id=\"faceboo...</td>\n",
       "      <td>200.0</td>\n",
       "      <td>0</td>\n",
       "      <td>0</td>\n",
       "      <td>0</td>\n",
       "      <td>1</td>\n",
       "      <td>3</td>\n",
       "      <td>0</td>\n",
       "      <td>1.0</td>\n",
       "      <td>0</td>\n",
       "      <td>2924.0</td>\n",
       "    </tr>\n",
       "    <tr>\n",
       "      <th>4</th>\n",
       "      <td>4</td>\n",
       "      <td>5.320000e+17</td>\n",
       "      <td>Gold - Spandau Ballet http://t.co/o8ZJHt7Neu</td>\n",
       "      <td>24858289</td>\n",
       "      <td>http://t.co/o8ZJHt7Neu</td>\n",
       "      <td>1</td>\n",
       "      <td>http://www.muzu.tv/spandau-ballet/gold-music-v...</td>\n",
       "      <td>b'&lt;!DOCTYPE html&gt;\\r\\n&lt;html lang=\"en-US\"&gt;\\r\\n&lt;h...</td>\n",
       "      <td>404.0</td>\n",
       "      <td>0</td>\n",
       "      <td>0</td>\n",
       "      <td>0</td>\n",
       "      <td>1</td>\n",
       "      <td>3</td>\n",
       "      <td>0</td>\n",
       "      <td>149230.0</td>\n",
       "      <td>0</td>\n",
       "      <td>NaN</td>\n",
       "    </tr>\n",
       "    <tr>\n",
       "      <th>...</th>\n",
       "      <td>...</td>\n",
       "      <td>...</td>\n",
       "      <td>...</td>\n",
       "      <td>...</td>\n",
       "      <td>...</td>\n",
       "      <td>...</td>\n",
       "      <td>...</td>\n",
       "      <td>...</td>\n",
       "      <td>...</td>\n",
       "      <td>...</td>\n",
       "      <td>...</td>\n",
       "      <td>...</td>\n",
       "      <td>...</td>\n",
       "      <td>...</td>\n",
       "      <td>...</td>\n",
       "      <td>...</td>\n",
       "      <td>...</td>\n",
       "      <td>...</td>\n",
       "    </tr>\n",
       "    <tr>\n",
       "      <th>188</th>\n",
       "      <td>92</td>\n",
       "      <td>5.866410e+17</td>\n",
       "      <td>You can joke about the Prius, but look who's o...</td>\n",
       "      <td>722623</td>\n",
       "      <td>http://t.co/DbtNESOPpK</td>\n",
       "      <td>0</td>\n",
       "      <td>https://twitter.com/BuzzJackson/status/5866409...</td>\n",
       "      <td>b'&lt;!DOCTYPE html&gt;\\n&lt;html dir=\"ltr\" lang=\"en\"&gt;\\...</td>\n",
       "      <td>200.0</td>\n",
       "      <td>0</td>\n",
       "      <td>0</td>\n",
       "      <td>0</td>\n",
       "      <td>1</td>\n",
       "      <td>2</td>\n",
       "      <td>0</td>\n",
       "      <td>5.0</td>\n",
       "      <td>0</td>\n",
       "      <td>299.0</td>\n",
       "    </tr>\n",
       "    <tr>\n",
       "      <th>189</th>\n",
       "      <td>93</td>\n",
       "      <td>5.866370e+17</td>\n",
       "      <td>RT @ABC7: #CHASE: LAPD in pursuit of a stolen ...</td>\n",
       "      <td>722623</td>\n",
       "      <td>http://t.co/u5lTveArpy</td>\n",
       "      <td>0</td>\n",
       "      <td>https://abc7.com/watch/live/</td>\n",
       "      <td>b'\\n        &lt;!doctype html&gt;\\n        &lt;html lan...</td>\n",
       "      <td>200.0</td>\n",
       "      <td>0</td>\n",
       "      <td>0</td>\n",
       "      <td>0</td>\n",
       "      <td>1</td>\n",
       "      <td>4</td>\n",
       "      <td>0</td>\n",
       "      <td>10570.0</td>\n",
       "      <td>0</td>\n",
       "      <td>128.0</td>\n",
       "    </tr>\n",
       "    <tr>\n",
       "      <th>190</th>\n",
       "      <td>94</td>\n",
       "      <td>5.862990e+17</td>\n",
       "      <td>And yet there will still be at least one on ev...</td>\n",
       "      <td>722623</td>\n",
       "      <td>https://t.co/DTSorUmOtA</td>\n",
       "      <td>0</td>\n",
       "      <td>https://twitter.com/kgun9/status/5862979740174...</td>\n",
       "      <td>b'&lt;!DOCTYPE html&gt;\\n&lt;html dir=\"ltr\" lang=\"en\"&gt;\\...</td>\n",
       "      <td>200.0</td>\n",
       "      <td>0</td>\n",
       "      <td>0</td>\n",
       "      <td>0</td>\n",
       "      <td>1</td>\n",
       "      <td>1</td>\n",
       "      <td>0</td>\n",
       "      <td>5.0</td>\n",
       "      <td>0</td>\n",
       "      <td>299.0</td>\n",
       "    </tr>\n",
       "    <tr>\n",
       "      <th>191</th>\n",
       "      <td>95</td>\n",
       "      <td>5.855680e+17</td>\n",
       "      <td>86-degrees in the hallway outside my office at...</td>\n",
       "      <td>722623</td>\n",
       "      <td>http://t.co/K8txd9MHx9</td>\n",
       "      <td>0</td>\n",
       "      <td>https://twitter.com/BuzzJackson/status/5855681...</td>\n",
       "      <td>b'&lt;!DOCTYPE html&gt;\\n&lt;html dir=\"ltr\" lang=\"en\"&gt;\\...</td>\n",
       "      <td>200.0</td>\n",
       "      <td>0</td>\n",
       "      <td>0</td>\n",
       "      <td>0</td>\n",
       "      <td>1</td>\n",
       "      <td>2</td>\n",
       "      <td>0</td>\n",
       "      <td>5.0</td>\n",
       "      <td>0</td>\n",
       "      <td>299.0</td>\n",
       "    </tr>\n",
       "    <tr>\n",
       "      <th>192</th>\n",
       "      <td>96</td>\n",
       "      <td>5.854410e+17</td>\n",
       "      <td>I've seen this screen four times now on the @R...</td>\n",
       "      <td>722623</td>\n",
       "      <td>http://t.co/kgLrb1GezI</td>\n",
       "      <td>0</td>\n",
       "      <td>https://twitter.com/BuzzJackson/status/5854414...</td>\n",
       "      <td>b'&lt;!DOCTYPE html&gt;\\n&lt;html dir=\"ltr\" lang=\"en\"&gt;\\...</td>\n",
       "      <td>200.0</td>\n",
       "      <td>0</td>\n",
       "      <td>0</td>\n",
       "      <td>0</td>\n",
       "      <td>1</td>\n",
       "      <td>2</td>\n",
       "      <td>0</td>\n",
       "      <td>5.0</td>\n",
       "      <td>0</td>\n",
       "      <td>299.0</td>\n",
       "    </tr>\n",
       "  </tbody>\n",
       "</table>\n",
       "<p>193 rows × 18 columns</p>\n",
       "</div>"
      ],
      "text/plain": [
       "     index            id                                               text  \\\n",
       "0        0  5.330000e+17   I Pooh - In silenzio 1968 http://t.co/ahvQxUqTws   \n",
       "1        1  5.330000e+17                             http://t.co/HyI5EQKz6Q   \n",
       "2        2  5.330000e+17  Tutti a tavola, con il filetto di baccalà. htt...   \n",
       "3        3  5.320000e+17                             http://t.co/NAHQ4l2pUy   \n",
       "4        4  5.320000e+17       Gold - Spandau Ballet http://t.co/o8ZJHt7Neu   \n",
       "..     ...           ...                                                ...   \n",
       "188     92  5.866410e+17  You can joke about the Prius, but look who's o...   \n",
       "189     93  5.866370e+17  RT @ABC7: #CHASE: LAPD in pursuit of a stolen ...   \n",
       "190     94  5.862990e+17  And yet there will still be at least one on ev...   \n",
       "191     95  5.855680e+17  86-degrees in the hallway outside my office at...   \n",
       "192     96  5.854410e+17  I've seen this screen four times now on the @R...   \n",
       "\n",
       "      user_id                      url  target  \\\n",
       "0    24858289   http://t.co/ahvQxUqTws       1   \n",
       "1    24858289   http://t.co/HyI5EQKz6Q       1   \n",
       "2    24858289   http://t.co/aHHbFXJbIS       1   \n",
       "3    24858289   http://t.co/NAHQ4l2pUy       1   \n",
       "4    24858289   http://t.co/o8ZJHt7Neu       1   \n",
       "..        ...                      ...     ...   \n",
       "188    722623   http://t.co/DbtNESOPpK       0   \n",
       "189    722623   http://t.co/u5lTveArpy       0   \n",
       "190    722623  https://t.co/DTSorUmOtA       0   \n",
       "191    722623   http://t.co/K8txd9MHx9       0   \n",
       "192    722623   http://t.co/kgLrb1GezI       0   \n",
       "\n",
       "                                          expanded_url  \\\n",
       "0          https://www.youtube.com/watch?v=Y6f6_WiyWjI   \n",
       "1    https://www.facebook.com/Davideb66/posts/10205...   \n",
       "2                      https://www.mipiaceroma.it/blog   \n",
       "3    https://www.facebook.com/Davideb66/posts/10205...   \n",
       "4    http://www.muzu.tv/spandau-ballet/gold-music-v...   \n",
       "..                                                 ...   \n",
       "188  https://twitter.com/BuzzJackson/status/5866409...   \n",
       "189                       https://abc7.com/watch/live/   \n",
       "190  https://twitter.com/kgun9/status/5862979740174...   \n",
       "191  https://twitter.com/BuzzJackson/status/5855681...   \n",
       "192  https://twitter.com/BuzzJackson/status/5854414...   \n",
       "\n",
       "                                            inner_html  http_status  \\\n",
       "0    b'<!DOCTYPE html><html style=\"font-size: 10px;...        200.0   \n",
       "1    b'<!DOCTYPE html>\\n<html lang=\"ml\" id=\"faceboo...        200.0   \n",
       "2    b'<!DOCTYPE html>\\n<!--[if IE 9 ]><html class=...        200.0   \n",
       "3    b'<!DOCTYPE html>\\n<html lang=\"ml\" id=\"faceboo...        200.0   \n",
       "4    b'<!DOCTYPE html>\\r\\n<html lang=\"en-US\">\\r\\n<h...        404.0   \n",
       "..                                                 ...          ...   \n",
       "188  b'<!DOCTYPE html>\\n<html dir=\"ltr\" lang=\"en\">\\...        200.0   \n",
       "189  b'\\n        <!doctype html>\\n        <html lan...        200.0   \n",
       "190  b'<!DOCTYPE html>\\n<html dir=\"ltr\" lang=\"en\">\\...        200.0   \n",
       "191  b'<!DOCTYPE html>\\n<html dir=\"ltr\" lang=\"en\">\\...        200.0   \n",
       "192  b'<!DOCTYPE html>\\n<html dir=\"ltr\" lang=\"en\">\\...        200.0   \n",
       "\n",
       "     is_@_present  is___present  is_#_present  is_redirected  \\\n",
       "0               0             1             0              1   \n",
       "1               0             0             0              1   \n",
       "2               0             0             0              1   \n",
       "3               0             0             0              1   \n",
       "4               0             0             0              1   \n",
       "..            ...           ...           ...            ...   \n",
       "188             0             0             0              1   \n",
       "189             0             0             0              1   \n",
       "190             0             0             0              1   \n",
       "191             0             0             0              1   \n",
       "192             0             0             0              1   \n",
       "\n",
       "     number_of_redirects  error_fetch   page_rank  is_abnormal  \\\n",
       "0                      3            0         4.0            0   \n",
       "1                      3            0         1.0            0   \n",
       "2                      5            0  44424115.0            0   \n",
       "3                      3            0         1.0            0   \n",
       "4                      3            0    149230.0            0   \n",
       "..                   ...          ...         ...          ...   \n",
       "188                    2            0         5.0            0   \n",
       "189                    4            0     10570.0            0   \n",
       "190                    1            0         5.0            0   \n",
       "191                    2            0         5.0            0   \n",
       "192                    2            0         5.0            0   \n",
       "\n",
       "     expiration_days_left  \n",
       "0                   324.0  \n",
       "1                  2924.0  \n",
       "2                   287.0  \n",
       "3                  2924.0  \n",
       "4                     NaN  \n",
       "..                    ...  \n",
       "188                 299.0  \n",
       "189                 128.0  \n",
       "190                 299.0  \n",
       "191                 299.0  \n",
       "192                 299.0  \n",
       "\n",
       "[193 rows x 18 columns]"
      ]
     },
     "execution_count": 7,
     "metadata": {},
     "output_type": "execute_result"
    }
   ],
   "source": [
    "input_data = pd.read_csv('final.csv')\n",
    "input_data\n"
   ]
  },
  {
   "cell_type": "code",
   "execution_count": 8,
   "id": "de6dad18",
   "metadata": {},
   "outputs": [
    {
     "data": {
      "text/html": [
       "<div>\n",
       "<style scoped>\n",
       "    .dataframe tbody tr th:only-of-type {\n",
       "        vertical-align: middle;\n",
       "    }\n",
       "\n",
       "    .dataframe tbody tr th {\n",
       "        vertical-align: top;\n",
       "    }\n",
       "\n",
       "    .dataframe thead th {\n",
       "        text-align: right;\n",
       "    }\n",
       "</style>\n",
       "<table border=\"1\" class=\"dataframe\">\n",
       "  <thead>\n",
       "    <tr style=\"text-align: right;\">\n",
       "      <th></th>\n",
       "      <th>target</th>\n",
       "      <th>http_status</th>\n",
       "      <th>is_@_present</th>\n",
       "      <th>is___present</th>\n",
       "      <th>is_#_present</th>\n",
       "      <th>is_redirected</th>\n",
       "      <th>number_of_redirects</th>\n",
       "      <th>error_fetch</th>\n",
       "      <th>page_rank</th>\n",
       "      <th>is_abnormal</th>\n",
       "      <th>expiration_days_left</th>\n",
       "    </tr>\n",
       "  </thead>\n",
       "  <tbody>\n",
       "    <tr>\n",
       "      <th>0</th>\n",
       "      <td>1</td>\n",
       "      <td>200.0</td>\n",
       "      <td>0</td>\n",
       "      <td>1</td>\n",
       "      <td>0</td>\n",
       "      <td>1</td>\n",
       "      <td>3</td>\n",
       "      <td>0</td>\n",
       "      <td>4.0</td>\n",
       "      <td>0</td>\n",
       "      <td>324.0</td>\n",
       "    </tr>\n",
       "    <tr>\n",
       "      <th>1</th>\n",
       "      <td>1</td>\n",
       "      <td>200.0</td>\n",
       "      <td>0</td>\n",
       "      <td>0</td>\n",
       "      <td>0</td>\n",
       "      <td>1</td>\n",
       "      <td>3</td>\n",
       "      <td>0</td>\n",
       "      <td>1.0</td>\n",
       "      <td>0</td>\n",
       "      <td>2924.0</td>\n",
       "    </tr>\n",
       "    <tr>\n",
       "      <th>2</th>\n",
       "      <td>1</td>\n",
       "      <td>200.0</td>\n",
       "      <td>0</td>\n",
       "      <td>0</td>\n",
       "      <td>0</td>\n",
       "      <td>1</td>\n",
       "      <td>5</td>\n",
       "      <td>0</td>\n",
       "      <td>44424115.0</td>\n",
       "      <td>0</td>\n",
       "      <td>287.0</td>\n",
       "    </tr>\n",
       "    <tr>\n",
       "      <th>3</th>\n",
       "      <td>1</td>\n",
       "      <td>200.0</td>\n",
       "      <td>0</td>\n",
       "      <td>0</td>\n",
       "      <td>0</td>\n",
       "      <td>1</td>\n",
       "      <td>3</td>\n",
       "      <td>0</td>\n",
       "      <td>1.0</td>\n",
       "      <td>0</td>\n",
       "      <td>2924.0</td>\n",
       "    </tr>\n",
       "    <tr>\n",
       "      <th>5</th>\n",
       "      <td>1</td>\n",
       "      <td>200.0</td>\n",
       "      <td>0</td>\n",
       "      <td>0</td>\n",
       "      <td>0</td>\n",
       "      <td>1</td>\n",
       "      <td>5</td>\n",
       "      <td>0</td>\n",
       "      <td>1158775.0</td>\n",
       "      <td>0</td>\n",
       "      <td>42.0</td>\n",
       "    </tr>\n",
       "    <tr>\n",
       "      <th>...</th>\n",
       "      <td>...</td>\n",
       "      <td>...</td>\n",
       "      <td>...</td>\n",
       "      <td>...</td>\n",
       "      <td>...</td>\n",
       "      <td>...</td>\n",
       "      <td>...</td>\n",
       "      <td>...</td>\n",
       "      <td>...</td>\n",
       "      <td>...</td>\n",
       "      <td>...</td>\n",
       "    </tr>\n",
       "    <tr>\n",
       "      <th>188</th>\n",
       "      <td>0</td>\n",
       "      <td>200.0</td>\n",
       "      <td>0</td>\n",
       "      <td>0</td>\n",
       "      <td>0</td>\n",
       "      <td>1</td>\n",
       "      <td>2</td>\n",
       "      <td>0</td>\n",
       "      <td>5.0</td>\n",
       "      <td>0</td>\n",
       "      <td>299.0</td>\n",
       "    </tr>\n",
       "    <tr>\n",
       "      <th>189</th>\n",
       "      <td>0</td>\n",
       "      <td>200.0</td>\n",
       "      <td>0</td>\n",
       "      <td>0</td>\n",
       "      <td>0</td>\n",
       "      <td>1</td>\n",
       "      <td>4</td>\n",
       "      <td>0</td>\n",
       "      <td>10570.0</td>\n",
       "      <td>0</td>\n",
       "      <td>128.0</td>\n",
       "    </tr>\n",
       "    <tr>\n",
       "      <th>190</th>\n",
       "      <td>0</td>\n",
       "      <td>200.0</td>\n",
       "      <td>0</td>\n",
       "      <td>0</td>\n",
       "      <td>0</td>\n",
       "      <td>1</td>\n",
       "      <td>1</td>\n",
       "      <td>0</td>\n",
       "      <td>5.0</td>\n",
       "      <td>0</td>\n",
       "      <td>299.0</td>\n",
       "    </tr>\n",
       "    <tr>\n",
       "      <th>191</th>\n",
       "      <td>0</td>\n",
       "      <td>200.0</td>\n",
       "      <td>0</td>\n",
       "      <td>0</td>\n",
       "      <td>0</td>\n",
       "      <td>1</td>\n",
       "      <td>2</td>\n",
       "      <td>0</td>\n",
       "      <td>5.0</td>\n",
       "      <td>0</td>\n",
       "      <td>299.0</td>\n",
       "    </tr>\n",
       "    <tr>\n",
       "      <th>192</th>\n",
       "      <td>0</td>\n",
       "      <td>200.0</td>\n",
       "      <td>0</td>\n",
       "      <td>0</td>\n",
       "      <td>0</td>\n",
       "      <td>1</td>\n",
       "      <td>2</td>\n",
       "      <td>0</td>\n",
       "      <td>5.0</td>\n",
       "      <td>0</td>\n",
       "      <td>299.0</td>\n",
       "    </tr>\n",
       "  </tbody>\n",
       "</table>\n",
       "<p>181 rows × 11 columns</p>\n",
       "</div>"
      ],
      "text/plain": [
       "     target  http_status  is_@_present  is___present  is_#_present  \\\n",
       "0         1        200.0             0             1             0   \n",
       "1         1        200.0             0             0             0   \n",
       "2         1        200.0             0             0             0   \n",
       "3         1        200.0             0             0             0   \n",
       "5         1        200.0             0             0             0   \n",
       "..      ...          ...           ...           ...           ...   \n",
       "188       0        200.0             0             0             0   \n",
       "189       0        200.0             0             0             0   \n",
       "190       0        200.0             0             0             0   \n",
       "191       0        200.0             0             0             0   \n",
       "192       0        200.0             0             0             0   \n",
       "\n",
       "     is_redirected  number_of_redirects  error_fetch   page_rank  is_abnormal  \\\n",
       "0                1                    3            0         4.0            0   \n",
       "1                1                    3            0         1.0            0   \n",
       "2                1                    5            0  44424115.0            0   \n",
       "3                1                    3            0         1.0            0   \n",
       "5                1                    5            0   1158775.0            0   \n",
       "..             ...                  ...          ...         ...          ...   \n",
       "188              1                    2            0         5.0            0   \n",
       "189              1                    4            0     10570.0            0   \n",
       "190              1                    1            0         5.0            0   \n",
       "191              1                    2            0         5.0            0   \n",
       "192              1                    2            0         5.0            0   \n",
       "\n",
       "     expiration_days_left  \n",
       "0                   324.0  \n",
       "1                  2924.0  \n",
       "2                   287.0  \n",
       "3                  2924.0  \n",
       "5                    42.0  \n",
       "..                    ...  \n",
       "188                 299.0  \n",
       "189                 128.0  \n",
       "190                 299.0  \n",
       "191                 299.0  \n",
       "192                 299.0  \n",
       "\n",
       "[181 rows x 11 columns]"
      ]
     },
     "execution_count": 8,
     "metadata": {},
     "output_type": "execute_result"
    }
   ],
   "source": [
    "# input_data = data.copy()\n",
    "input_data = input_data.drop(['index','id', 'text', 'url', 'expanded_url','user_id','index','inner_html'],axis = 1)\n",
    "\n",
    "# df['Set_of_Numbers'] = df['Set_of_Numbers'].fillna(0)\n",
    "\n",
    "input_data = input_data.dropna()\n",
    "input_data"
   ]
  },
  {
   "cell_type": "code",
   "execution_count": 9,
   "id": "cb606ba9",
   "metadata": {},
   "outputs": [],
   "source": [
    "y = input_data['target'].values\n",
    "columns_needed = list(input_data.columns)\n",
    "columns_needed.remove('target')\n",
    "\n",
    "x = input_data[columns_needed].values"
   ]
  },
  {
   "cell_type": "code",
   "execution_count": 10,
   "id": "02edf456",
   "metadata": {},
   "outputs": [
    {
     "data": {
      "text/plain": [
       "array([1, 1, 1, 1, 1, 1, 1, 1, 1, 1, 1, 1, 1, 1, 1, 1, 1, 1, 1, 1, 1, 1,\n",
       "       1, 1, 1, 1, 1, 1, 1, 1, 1, 1, 1, 1, 1, 1, 1, 1, 1, 1, 1, 1, 1, 1,\n",
       "       1, 1, 1, 1, 1, 1, 1, 1, 1, 1, 1, 0, 0, 0, 0, 0, 0, 0, 0, 0, 0, 0,\n",
       "       0, 0, 0, 0, 0, 0, 0, 0, 0, 0, 0, 0, 0, 0, 0, 0, 0, 0, 0, 0, 0, 0,\n",
       "       0, 0, 0, 1, 1, 1, 1, 1, 1, 1, 1, 1, 1, 1, 1, 1, 1, 1, 1, 1, 1, 1,\n",
       "       1, 1, 1, 1, 1, 1, 1, 1, 1, 1, 1, 1, 1, 1, 1, 1, 1, 1, 1, 1, 1, 1,\n",
       "       1, 1, 1, 1, 1, 1, 1, 1, 1, 1, 1, 1, 1, 0, 0, 0, 0, 0, 0, 0, 0, 0,\n",
       "       0, 0, 0, 0, 0, 0, 0, 0, 0, 0, 0, 0, 0, 0, 0, 0, 0, 0, 0, 0, 0, 0,\n",
       "       0, 0, 0, 0, 0], dtype=int64)"
      ]
     },
     "execution_count": 10,
     "metadata": {},
     "output_type": "execute_result"
    }
   ],
   "source": [
    "y"
   ]
  },
  {
   "cell_type": "code",
   "execution_count": 11,
   "id": "cef3c864",
   "metadata": {},
   "outputs": [],
   "source": [
    "from sklearn.model_selection import train_test_split\n",
    "\n",
    "x_train, x_test, y_train, y_test = train_test_split(x,y ,\n",
    "                                   random_state=104, \n",
    "                                   test_size=0.25, \n",
    "                                   shuffle=True)"
   ]
  },
  {
   "cell_type": "markdown",
   "id": "1f6c884d",
   "metadata": {},
   "source": [
    "## Logistic Regression"
   ]
  },
  {
   "cell_type": "code",
   "execution_count": 12,
   "id": "df1c9f8b",
   "metadata": {},
   "outputs": [
    {
     "data": {
      "text/html": [
       "<style>#sk-container-id-1 {color: black;background-color: white;}#sk-container-id-1 pre{padding: 0;}#sk-container-id-1 div.sk-toggleable {background-color: white;}#sk-container-id-1 label.sk-toggleable__label {cursor: pointer;display: block;width: 100%;margin-bottom: 0;padding: 0.3em;box-sizing: border-box;text-align: center;}#sk-container-id-1 label.sk-toggleable__label-arrow:before {content: \"▸\";float: left;margin-right: 0.25em;color: #696969;}#sk-container-id-1 label.sk-toggleable__label-arrow:hover:before {color: black;}#sk-container-id-1 div.sk-estimator:hover label.sk-toggleable__label-arrow:before {color: black;}#sk-container-id-1 div.sk-toggleable__content {max-height: 0;max-width: 0;overflow: hidden;text-align: left;background-color: #f0f8ff;}#sk-container-id-1 div.sk-toggleable__content pre {margin: 0.2em;color: black;border-radius: 0.25em;background-color: #f0f8ff;}#sk-container-id-1 input.sk-toggleable__control:checked~div.sk-toggleable__content {max-height: 200px;max-width: 100%;overflow: auto;}#sk-container-id-1 input.sk-toggleable__control:checked~label.sk-toggleable__label-arrow:before {content: \"▾\";}#sk-container-id-1 div.sk-estimator input.sk-toggleable__control:checked~label.sk-toggleable__label {background-color: #d4ebff;}#sk-container-id-1 div.sk-label input.sk-toggleable__control:checked~label.sk-toggleable__label {background-color: #d4ebff;}#sk-container-id-1 input.sk-hidden--visually {border: 0;clip: rect(1px 1px 1px 1px);clip: rect(1px, 1px, 1px, 1px);height: 1px;margin: -1px;overflow: hidden;padding: 0;position: absolute;width: 1px;}#sk-container-id-1 div.sk-estimator {font-family: monospace;background-color: #f0f8ff;border: 1px dotted black;border-radius: 0.25em;box-sizing: border-box;margin-bottom: 0.5em;}#sk-container-id-1 div.sk-estimator:hover {background-color: #d4ebff;}#sk-container-id-1 div.sk-parallel-item::after {content: \"\";width: 100%;border-bottom: 1px solid gray;flex-grow: 1;}#sk-container-id-1 div.sk-label:hover label.sk-toggleable__label {background-color: #d4ebff;}#sk-container-id-1 div.sk-serial::before {content: \"\";position: absolute;border-left: 1px solid gray;box-sizing: border-box;top: 0;bottom: 0;left: 50%;z-index: 0;}#sk-container-id-1 div.sk-serial {display: flex;flex-direction: column;align-items: center;background-color: white;padding-right: 0.2em;padding-left: 0.2em;position: relative;}#sk-container-id-1 div.sk-item {position: relative;z-index: 1;}#sk-container-id-1 div.sk-parallel {display: flex;align-items: stretch;justify-content: center;background-color: white;position: relative;}#sk-container-id-1 div.sk-item::before, #sk-container-id-1 div.sk-parallel-item::before {content: \"\";position: absolute;border-left: 1px solid gray;box-sizing: border-box;top: 0;bottom: 0;left: 50%;z-index: -1;}#sk-container-id-1 div.sk-parallel-item {display: flex;flex-direction: column;z-index: 1;position: relative;background-color: white;}#sk-container-id-1 div.sk-parallel-item:first-child::after {align-self: flex-end;width: 50%;}#sk-container-id-1 div.sk-parallel-item:last-child::after {align-self: flex-start;width: 50%;}#sk-container-id-1 div.sk-parallel-item:only-child::after {width: 0;}#sk-container-id-1 div.sk-dashed-wrapped {border: 1px dashed gray;margin: 0 0.4em 0.5em 0.4em;box-sizing: border-box;padding-bottom: 0.4em;background-color: white;}#sk-container-id-1 div.sk-label label {font-family: monospace;font-weight: bold;display: inline-block;line-height: 1.2em;}#sk-container-id-1 div.sk-label-container {text-align: center;}#sk-container-id-1 div.sk-container {/* jupyter's `normalize.less` sets `[hidden] { display: none; }` but bootstrap.min.css set `[hidden] { display: none !important; }` so we also need the `!important` here to be able to override the default hidden behavior on the sphinx rendered scikit-learn.org. See: https://github.com/scikit-learn/scikit-learn/issues/21755 */display: inline-block !important;position: relative;}#sk-container-id-1 div.sk-text-repr-fallback {display: none;}</style><div id=\"sk-container-id-1\" class=\"sk-top-container\"><div class=\"sk-text-repr-fallback\"><pre>LogisticRegressionCV()</pre><b>In a Jupyter environment, please rerun this cell to show the HTML representation or trust the notebook. <br />On GitHub, the HTML representation is unable to render, please try loading this page with nbviewer.org.</b></div><div class=\"sk-container\" hidden><div class=\"sk-item\"><div class=\"sk-estimator sk-toggleable\"><input class=\"sk-toggleable__control sk-hidden--visually\" id=\"sk-estimator-id-1\" type=\"checkbox\" checked><label for=\"sk-estimator-id-1\" class=\"sk-toggleable__label sk-toggleable__label-arrow\">LogisticRegressionCV</label><div class=\"sk-toggleable__content\"><pre>LogisticRegressionCV()</pre></div></div></div></div></div>"
      ],
      "text/plain": [
       "LogisticRegressionCV()"
      ]
     },
     "execution_count": 12,
     "metadata": {},
     "output_type": "execute_result"
    }
   ],
   "source": [
    "from sklearn import svm,linear_model\n",
    "clf = linear_model.LogisticRegressionCV()\n",
    "clf.fit(x_train, y_train)\n",
    "\n"
   ]
  },
  {
   "cell_type": "code",
   "execution_count": 13,
   "id": "581f5b9c",
   "metadata": {},
   "outputs": [],
   "source": [
    "y_pred = clf.predict(x_test)\n"
   ]
  },
  {
   "cell_type": "code",
   "execution_count": 14,
   "id": "643c14de",
   "metadata": {},
   "outputs": [
    {
     "data": {
      "text/plain": [
       "array([0, 0, 1, 0, 1, 0, 0, 1, 0, 1, 0, 1, 0, 1, 0, 1, 1, 0, 1, 1, 0, 1,\n",
       "       1, 0, 1, 1, 0, 1, 0, 1, 1, 0, 0, 0, 0, 0, 0, 0, 0, 1, 1, 0, 0, 0,\n",
       "       0, 0], dtype=int64)"
      ]
     },
     "execution_count": 14,
     "metadata": {},
     "output_type": "execute_result"
    }
   ],
   "source": [
    "y_pred"
   ]
  },
  {
   "cell_type": "code",
   "execution_count": 15,
   "id": "c85e61fe",
   "metadata": {},
   "outputs": [
    {
     "name": "stdout",
     "output_type": "stream",
     "text": [
      "              precision    recall  f1-score   support\n",
      "\n",
      "           0       0.59      1.00      0.74        16\n",
      "           1       1.00      0.63      0.78        30\n",
      "\n",
      "    accuracy                           0.76        46\n",
      "   macro avg       0.80      0.82      0.76        46\n",
      "weighted avg       0.86      0.76      0.76        46\n",
      "\n"
     ]
    }
   ],
   "source": [
    "from sklearn.metrics import classification_report\n",
    "\n",
    "report = classification_report(y_test, y_pred)\n",
    "print(report)"
   ]
  },
  {
   "cell_type": "code",
   "execution_count": 16,
   "id": "d5026482",
   "metadata": {},
   "outputs": [
    {
     "data": {
      "image/png": "[encoded data removed]",
      "text/plain": [
       "<Figure size 640x480 with 2 Axes>"
      ]
     },
     "metadata": {},
     "output_type": "display_data"
    }
   ],
   "source": [
    "from sklearn import metrics\n",
    "import matplotlib.pyplot as plt\n",
    "\n",
    "confusion_matrix = metrics.confusion_matrix(y_test, y_pred)\n",
    "cm_display = metrics.ConfusionMatrixDisplay(confusion_matrix = confusion_matrix, display_labels = ['Not Bot', 'Bot'])\n",
    "cm_display.plot()\n",
    "plt.show()"
   ]
  },
  {
   "cell_type": "markdown",
   "id": "9419a2c7",
   "metadata": {},
   "source": [
    "## Support Vector Machine"
   ]
  },
  {
   "cell_type": "code",
   "execution_count": 17,
   "id": "529de106",
   "metadata": {},
   "outputs": [
    {
     "data": {
      "text/html": [
       "<style>#sk-container-id-2 {color: black;background-color: white;}#sk-container-id-2 pre{padding: 0;}#sk-container-id-2 div.sk-toggleable {background-color: white;}#sk-container-id-2 label.sk-toggleable__label {cursor: pointer;display: block;width: 100%;margin-bottom: 0;padding: 0.3em;box-sizing: border-box;text-align: center;}#sk-container-id-2 label.sk-toggleable__label-arrow:before {content: \"▸\";float: left;margin-right: 0.25em;color: #696969;}#sk-container-id-2 label.sk-toggleable__label-arrow:hover:before {color: black;}#sk-container-id-2 div.sk-estimator:hover label.sk-toggleable__label-arrow:before {color: black;}#sk-container-id-2 div.sk-toggleable__content {max-height: 0;max-width: 0;overflow: hidden;text-align: left;background-color: #f0f8ff;}#sk-container-id-2 div.sk-toggleable__content pre {margin: 0.2em;color: black;border-radius: 0.25em;background-color: #f0f8ff;}#sk-container-id-2 input.sk-toggleable__control:checked~div.sk-toggleable__content {max-height: 200px;max-width: 100%;overflow: auto;}#sk-container-id-2 input.sk-toggleable__control:checked~label.sk-toggleable__label-arrow:before {content: \"▾\";}#sk-container-id-2 div.sk-estimator input.sk-toggleable__control:checked~label.sk-toggleable__label {background-color: #d4ebff;}#sk-container-id-2 div.sk-label input.sk-toggleable__control:checked~label.sk-toggleable__label {background-color: #d4ebff;}#sk-container-id-2 input.sk-hidden--visually {border: 0;clip: rect(1px 1px 1px 1px);clip: rect(1px, 1px, 1px, 1px);height: 1px;margin: -1px;overflow: hidden;padding: 0;position: absolute;width: 1px;}#sk-container-id-2 div.sk-estimator {font-family: monospace;background-color: #f0f8ff;border: 1px dotted black;border-radius: 0.25em;box-sizing: border-box;margin-bottom: 0.5em;}#sk-container-id-2 div.sk-estimator:hover {background-color: #d4ebff;}#sk-container-id-2 div.sk-parallel-item::after {content: \"\";width: 100%;border-bottom: 1px solid gray;flex-grow: 1;}#sk-container-id-2 div.sk-label:hover label.sk-toggleable__label {background-color: #d4ebff;}#sk-container-id-2 div.sk-serial::before {content: \"\";position: absolute;border-left: 1px solid gray;box-sizing: border-box;top: 0;bottom: 0;left: 50%;z-index: 0;}#sk-container-id-2 div.sk-serial {display: flex;flex-direction: column;align-items: center;background-color: white;padding-right: 0.2em;padding-left: 0.2em;position: relative;}#sk-container-id-2 div.sk-item {position: relative;z-index: 1;}#sk-container-id-2 div.sk-parallel {display: flex;align-items: stretch;justify-content: center;background-color: white;position: relative;}#sk-container-id-2 div.sk-item::before, #sk-container-id-2 div.sk-parallel-item::before {content: \"\";position: absolute;border-left: 1px solid gray;box-sizing: border-box;top: 0;bottom: 0;left: 50%;z-index: -1;}#sk-container-id-2 div.sk-parallel-item {display: flex;flex-direction: column;z-index: 1;position: relative;background-color: white;}#sk-container-id-2 div.sk-parallel-item:first-child::after {align-self: flex-end;width: 50%;}#sk-container-id-2 div.sk-parallel-item:last-child::after {align-self: flex-start;width: 50%;}#sk-container-id-2 div.sk-parallel-item:only-child::after {width: 0;}#sk-container-id-2 div.sk-dashed-wrapped {border: 1px dashed gray;margin: 0 0.4em 0.5em 0.4em;box-sizing: border-box;padding-bottom: 0.4em;background-color: white;}#sk-container-id-2 div.sk-label label {font-family: monospace;font-weight: bold;display: inline-block;line-height: 1.2em;}#sk-container-id-2 div.sk-label-container {text-align: center;}#sk-container-id-2 div.sk-container {/* jupyter's `normalize.less` sets `[hidden] { display: none; }` but bootstrap.min.css set `[hidden] { display: none !important; }` so we also need the `!important` here to be able to override the default hidden behavior on the sphinx rendered scikit-learn.org. See: https://github.com/scikit-learn/scikit-learn/issues/21755 */display: inline-block !important;position: relative;}#sk-container-id-2 div.sk-text-repr-fallback {display: none;}</style><div id=\"sk-container-id-2\" class=\"sk-top-container\"><div class=\"sk-text-repr-fallback\"><pre>SVC()</pre><b>In a Jupyter environment, please rerun this cell to show the HTML representation or trust the notebook. <br />On GitHub, the HTML representation is unable to render, please try loading this page with nbviewer.org.</b></div><div class=\"sk-container\" hidden><div class=\"sk-item\"><div class=\"sk-estimator sk-toggleable\"><input class=\"sk-toggleable__control sk-hidden--visually\" id=\"sk-estimator-id-2\" type=\"checkbox\" checked><label for=\"sk-estimator-id-2\" class=\"sk-toggleable__label sk-toggleable__label-arrow\">SVC</label><div class=\"sk-toggleable__content\"><pre>SVC()</pre></div></div></div></div></div>"
      ],
      "text/plain": [
       "SVC()"
      ]
     },
     "execution_count": 17,
     "metadata": {},
     "output_type": "execute_result"
    }
   ],
   "source": [
    "from sklearn.svm import SVC\n",
    "\n",
    "svc_clf = SVC(kernel='rbf')\n",
    "svc_clf.fit(x_train,y_train)"
   ]
  },
  {
   "cell_type": "code",
   "execution_count": 18,
   "id": "43fd1f19",
   "metadata": {},
   "outputs": [
    {
     "name": "stdout",
     "output_type": "stream",
     "text": [
      "              precision    recall  f1-score   support\n",
      "\n",
      "           0       0.00      0.00      0.00        16\n",
      "           1       0.65      1.00      0.79        30\n",
      "\n",
      "    accuracy                           0.65        46\n",
      "   macro avg       0.33      0.50      0.39        46\n",
      "weighted avg       0.43      0.65      0.51        46\n",
      "\n"
     ]
    },
    {
     "name": "stderr",
     "output_type": "stream",
     "text": [
      "C:\\Python310\\lib\\site-packages\\sklearn\\metrics\\_classification.py:1334: UndefinedMetricWarning: Precision and F-score are ill-defined and being set to 0.0 in labels with no predicted samples. Use `zero_division` parameter to control this behavior.\n",
      "  _warn_prf(average, modifier, msg_start, len(result))\n",
      "C:\\Python310\\lib\\site-packages\\sklearn\\metrics\\_classification.py:1334: UndefinedMetricWarning: Precision and F-score are ill-defined and being set to 0.0 in labels with no predicted samples. Use `zero_division` parameter to control this behavior.\n",
      "  _warn_prf(average, modifier, msg_start, len(result))\n",
      "C:\\Python310\\lib\\site-packages\\sklearn\\metrics\\_classification.py:1334: UndefinedMetricWarning: Precision and F-score are ill-defined and being set to 0.0 in labels with no predicted samples. Use `zero_division` parameter to control this behavior.\n",
      "  _warn_prf(average, modifier, msg_start, len(result))\n"
     ]
    }
   ],
   "source": [
    "# Make prediction\n",
    "y_pred = svc_clf.predict(x_test)\n",
    "\n",
    "#print the classification report\n",
    "report = classification_report(y_test, y_pred)\n",
    "print(report)"
   ]
  },
  {
   "cell_type": "code",
   "execution_count": 19,
   "id": "a0816aba",
   "metadata": {},
   "outputs": [
    {
     "data": {
      "image/png": "[encoded data removed]",
      "text/plain": [
       "<Figure size 640x480 with 2 Axes>"
      ]
     },
     "metadata": {},
     "output_type": "display_data"
    }
   ],
   "source": [
    "# print the confusion matrix\n",
    "confusion_matrix = metrics.confusion_matrix(y_test, y_pred)\n",
    "cm_display = metrics.ConfusionMatrixDisplay(confusion_matrix = confusion_matrix, display_labels = ['Not Bot', 'Bot'])\n",
    "cm_display.plot()\n",
    "plt.show()"
   ]
  },
  {
   "cell_type": "markdown",
   "id": "c73eb109",
   "metadata": {},
   "source": [
    "## Random Forest"
   ]
  },
  {
   "cell_type": "code",
   "execution_count": 20,
   "id": "4c8399e5",
   "metadata": {},
   "outputs": [
    {
     "data": {
      "text/html": [
       "<style>#sk-container-id-3 {color: black;background-color: white;}#sk-container-id-3 pre{padding: 0;}#sk-container-id-3 div.sk-toggleable {background-color: white;}#sk-container-id-3 label.sk-toggleable__label {cursor: pointer;display: block;width: 100%;margin-bottom: 0;padding: 0.3em;box-sizing: border-box;text-align: center;}#sk-container-id-3 label.sk-toggleable__label-arrow:before {content: \"▸\";float: left;margin-right: 0.25em;color: #696969;}#sk-container-id-3 label.sk-toggleable__label-arrow:hover:before {color: black;}#sk-container-id-3 div.sk-estimator:hover label.sk-toggleable__label-arrow:before {color: black;}#sk-container-id-3 div.sk-toggleable__content {max-height: 0;max-width: 0;overflow: hidden;text-align: left;background-color: #f0f8ff;}#sk-container-id-3 div.sk-toggleable__content pre {margin: 0.2em;color: black;border-radius: 0.25em;background-color: #f0f8ff;}#sk-container-id-3 input.sk-toggleable__control:checked~div.sk-toggleable__content {max-height: 200px;max-width: 100%;overflow: auto;}#sk-container-id-3 input.sk-toggleable__control:checked~label.sk-toggleable__label-arrow:before {content: \"▾\";}#sk-container-id-3 div.sk-estimator input.sk-toggleable__control:checked~label.sk-toggleable__label {background-color: #d4ebff;}#sk-container-id-3 div.sk-label input.sk-toggleable__control:checked~label.sk-toggleable__label {background-color: #d4ebff;}#sk-container-id-3 input.sk-hidden--visually {border: 0;clip: rect(1px 1px 1px 1px);clip: rect(1px, 1px, 1px, 1px);height: 1px;margin: -1px;overflow: hidden;padding: 0;position: absolute;width: 1px;}#sk-container-id-3 div.sk-estimator {font-family: monospace;background-color: #f0f8ff;border: 1px dotted black;border-radius: 0.25em;box-sizing: border-box;margin-bottom: 0.5em;}#sk-container-id-3 div.sk-estimator:hover {background-color: #d4ebff;}#sk-container-id-3 div.sk-parallel-item::after {content: \"\";width: 100%;border-bottom: 1px solid gray;flex-grow: 1;}#sk-container-id-3 div.sk-label:hover label.sk-toggleable__label {background-color: #d4ebff;}#sk-container-id-3 div.sk-serial::before {content: \"\";position: absolute;border-left: 1px solid gray;box-sizing: border-box;top: 0;bottom: 0;left: 50%;z-index: 0;}#sk-container-id-3 div.sk-serial {display: flex;flex-direction: column;align-items: center;background-color: white;padding-right: 0.2em;padding-left: 0.2em;position: relative;}#sk-container-id-3 div.sk-item {position: relative;z-index: 1;}#sk-container-id-3 div.sk-parallel {display: flex;align-items: stretch;justify-content: center;background-color: white;position: relative;}#sk-container-id-3 div.sk-item::before, #sk-container-id-3 div.sk-parallel-item::before {content: \"\";position: absolute;border-left: 1px solid gray;box-sizing: border-box;top: 0;bottom: 0;left: 50%;z-index: -1;}#sk-container-id-3 div.sk-parallel-item {display: flex;flex-direction: column;z-index: 1;position: relative;background-color: white;}#sk-container-id-3 div.sk-parallel-item:first-child::after {align-self: flex-end;width: 50%;}#sk-container-id-3 div.sk-parallel-item:last-child::after {align-self: flex-start;width: 50%;}#sk-container-id-3 div.sk-parallel-item:only-child::after {width: 0;}#sk-container-id-3 div.sk-dashed-wrapped {border: 1px dashed gray;margin: 0 0.4em 0.5em 0.4em;box-sizing: border-box;padding-bottom: 0.4em;background-color: white;}#sk-container-id-3 div.sk-label label {font-family: monospace;font-weight: bold;display: inline-block;line-height: 1.2em;}#sk-container-id-3 div.sk-label-container {text-align: center;}#sk-container-id-3 div.sk-container {/* jupyter's `normalize.less` sets `[hidden] { display: none; }` but bootstrap.min.css set `[hidden] { display: none !important; }` so we also need the `!important` here to be able to override the default hidden behavior on the sphinx rendered scikit-learn.org. See: https://github.com/scikit-learn/scikit-learn/issues/21755 */display: inline-block !important;position: relative;}#sk-container-id-3 div.sk-text-repr-fallback {display: none;}</style><div id=\"sk-container-id-3\" class=\"sk-top-container\"><div class=\"sk-text-repr-fallback\"><pre>RandomForestClassifier()</pre><b>In a Jupyter environment, please rerun this cell to show the HTML representation or trust the notebook. <br />On GitHub, the HTML representation is unable to render, please try loading this page with nbviewer.org.</b></div><div class=\"sk-container\" hidden><div class=\"sk-item\"><div class=\"sk-estimator sk-toggleable\"><input class=\"sk-toggleable__control sk-hidden--visually\" id=\"sk-estimator-id-3\" type=\"checkbox\" checked><label for=\"sk-estimator-id-3\" class=\"sk-toggleable__label sk-toggleable__label-arrow\">RandomForestClassifier</label><div class=\"sk-toggleable__content\"><pre>RandomForestClassifier()</pre></div></div></div></div></div>"
      ],
      "text/plain": [
       "RandomForestClassifier()"
      ]
     },
     "execution_count": 20,
     "metadata": {},
     "output_type": "execute_result"
    }
   ],
   "source": [
    "from sklearn.ensemble import RandomForestClassifier\n",
    "\n",
    "rf_clf = RandomForestClassifier(n_estimators = 100)\n",
    "rf_clf.fit(x_train,y_train)"
   ]
  },
  {
   "cell_type": "code",
   "execution_count": 21,
   "id": "9fe4eb2d",
   "metadata": {},
   "outputs": [
    {
     "name": "stdout",
     "output_type": "stream",
     "text": [
      "              precision    recall  f1-score   support\n",
      "\n",
      "           0       1.00      0.94      0.97        16\n",
      "           1       0.97      1.00      0.98        30\n",
      "\n",
      "    accuracy                           0.98        46\n",
      "   macro avg       0.98      0.97      0.98        46\n",
      "weighted avg       0.98      0.98      0.98        46\n",
      "\n"
     ]
    }
   ],
   "source": [
    "# Make prediction\n",
    "y_pred = rf_clf.predict(x_test)\n",
    "\n",
    "#print the classification report\n",
    "report = classification_report(y_test, y_pred)\n",
    "print(report)"
   ]
  },
  {
   "cell_type": "code",
   "execution_count": 22,
   "id": "620f31cf",
   "metadata": {},
   "outputs": [
    {
     "data": {
      "image/png": "[encoded data removed]",
      "text/plain": [
       "<Figure size 640x480 with 2 Axes>"
      ]
     },
     "metadata": {},
     "output_type": "display_data"
    }
   ],
   "source": [
    "# print the confusion matrix\n",
    "confusion_matrix = metrics.confusion_matrix(y_test, y_pred)\n",
    "cm_display = metrics.ConfusionMatrixDisplay(confusion_matrix = confusion_matrix, display_labels = ['Not Bot', 'Bot'])\n",
    "cm_display.plot()\n",
    "plt.show()"
   ]
  },
  {
   "cell_type": "markdown",
   "id": "352fbd43",
   "metadata": {},
   "source": [
    "## MultiLayer Perceptron"
   ]
  },
  {
   "cell_type": "code",
   "execution_count": 24,
   "id": "0334682c",
   "metadata": {},
   "outputs": [
    {
     "data": {
      "text/html": [
       "<style>#sk-container-id-5 {color: black;background-color: white;}#sk-container-id-5 pre{padding: 0;}#sk-container-id-5 div.sk-toggleable {background-color: white;}#sk-container-id-5 label.sk-toggleable__label {cursor: pointer;display: block;width: 100%;margin-bottom: 0;padding: 0.3em;box-sizing: border-box;text-align: center;}#sk-container-id-5 label.sk-toggleable__label-arrow:before {content: \"▸\";float: left;margin-right: 0.25em;color: #696969;}#sk-container-id-5 label.sk-toggleable__label-arrow:hover:before {color: black;}#sk-container-id-5 div.sk-estimator:hover label.sk-toggleable__label-arrow:before {color: black;}#sk-container-id-5 div.sk-toggleable__content {max-height: 0;max-width: 0;overflow: hidden;text-align: left;background-color: #f0f8ff;}#sk-container-id-5 div.sk-toggleable__content pre {margin: 0.2em;color: black;border-radius: 0.25em;background-color: #f0f8ff;}#sk-container-id-5 input.sk-toggleable__control:checked~div.sk-toggleable__content {max-height: 200px;max-width: 100%;overflow: auto;}#sk-container-id-5 input.sk-toggleable__control:checked~label.sk-toggleable__label-arrow:before {content: \"▾\";}#sk-container-id-5 div.sk-estimator input.sk-toggleable__control:checked~label.sk-toggleable__label {background-color: #d4ebff;}#sk-container-id-5 div.sk-label input.sk-toggleable__control:checked~label.sk-toggleable__label {background-color: #d4ebff;}#sk-container-id-5 input.sk-hidden--visually {border: 0;clip: rect(1px 1px 1px 1px);clip: rect(1px, 1px, 1px, 1px);height: 1px;margin: -1px;overflow: hidden;padding: 0;position: absolute;width: 1px;}#sk-container-id-5 div.sk-estimator {font-family: monospace;background-color: #f0f8ff;border: 1px dotted black;border-radius: 0.25em;box-sizing: border-box;margin-bottom: 0.5em;}#sk-container-id-5 div.sk-estimator:hover {background-color: #d4ebff;}#sk-container-id-5 div.sk-parallel-item::after {content: \"\";width: 100%;border-bottom: 1px solid gray;flex-grow: 1;}#sk-container-id-5 div.sk-label:hover label.sk-toggleable__label {background-color: #d4ebff;}#sk-container-id-5 div.sk-serial::before {content: \"\";position: absolute;border-left: 1px solid gray;box-sizing: border-box;top: 0;bottom: 0;left: 50%;z-index: 0;}#sk-container-id-5 div.sk-serial {display: flex;flex-direction: column;align-items: center;background-color: white;padding-right: 0.2em;padding-left: 0.2em;position: relative;}#sk-container-id-5 div.sk-item {position: relative;z-index: 1;}#sk-container-id-5 div.sk-parallel {display: flex;align-items: stretch;justify-content: center;background-color: white;position: relative;}#sk-container-id-5 div.sk-item::before, #sk-container-id-5 div.sk-parallel-item::before {content: \"\";position: absolute;border-left: 1px solid gray;box-sizing: border-box;top: 0;bottom: 0;left: 50%;z-index: -1;}#sk-container-id-5 div.sk-parallel-item {display: flex;flex-direction: column;z-index: 1;position: relative;background-color: white;}#sk-container-id-5 div.sk-parallel-item:first-child::after {align-self: flex-end;width: 50%;}#sk-container-id-5 div.sk-parallel-item:last-child::after {align-self: flex-start;width: 50%;}#sk-container-id-5 div.sk-parallel-item:only-child::after {width: 0;}#sk-container-id-5 div.sk-dashed-wrapped {border: 1px dashed gray;margin: 0 0.4em 0.5em 0.4em;box-sizing: border-box;padding-bottom: 0.4em;background-color: white;}#sk-container-id-5 div.sk-label label {font-family: monospace;font-weight: bold;display: inline-block;line-height: 1.2em;}#sk-container-id-5 div.sk-label-container {text-align: center;}#sk-container-id-5 div.sk-container {/* jupyter's `normalize.less` sets `[hidden] { display: none; }` but bootstrap.min.css set `[hidden] { display: none !important; }` so we also need the `!important` here to be able to override the default hidden behavior on the sphinx rendered scikit-learn.org. See: https://github.com/scikit-learn/scikit-learn/issues/21755 */display: inline-block !important;position: relative;}#sk-container-id-5 div.sk-text-repr-fallback {display: none;}</style><div id=\"sk-container-id-5\" class=\"sk-top-container\"><div class=\"sk-text-repr-fallback\"><pre>MLPClassifier(max_iter=300, random_state=1)</pre><b>In a Jupyter environment, please rerun this cell to show the HTML representation or trust the notebook. <br />On GitHub, the HTML representation is unable to render, please try loading this page with nbviewer.org.</b></div><div class=\"sk-container\" hidden><div class=\"sk-item\"><div class=\"sk-estimator sk-toggleable\"><input class=\"sk-toggleable__control sk-hidden--visually\" id=\"sk-estimator-id-5\" type=\"checkbox\" checked><label for=\"sk-estimator-id-5\" class=\"sk-toggleable__label sk-toggleable__label-arrow\">MLPClassifier</label><div class=\"sk-toggleable__content\"><pre>MLPClassifier(max_iter=300, random_state=1)</pre></div></div></div></div></div>"
      ],
      "text/plain": [
       "MLPClassifier(max_iter=300, random_state=1)"
      ]
     },
     "execution_count": 24,
     "metadata": {},
     "output_type": "execute_result"
    }
   ],
   "source": [
    "from sklearn.neural_network import MLPClassifier\n",
    "\n",
    "mlp_clf = MLPClassifier(random_state=1, max_iter=300)\n",
    "mlp_clf.fit(x_train, y_train)"
   ]
  },
  {
   "cell_type": "code",
   "execution_count": 25,
   "id": "05fb49f7",
   "metadata": {},
   "outputs": [
    {
     "name": "stdout",
     "output_type": "stream",
     "text": [
      "              precision    recall  f1-score   support\n",
      "\n",
      "           0       0.75      0.38      0.50        16\n",
      "           1       0.74      0.93      0.82        30\n",
      "\n",
      "    accuracy                           0.74        46\n",
      "   macro avg       0.74      0.65      0.66        46\n",
      "weighted avg       0.74      0.74      0.71        46\n",
      "\n"
     ]
    }
   ],
   "source": [
    "# Make prediction\n",
    "y_pred = mlp_clf.predict(x_test)\n",
    "\n",
    "#print the classification report\n",
    "report = classification_report(y_test, y_pred)\n",
    "print(report)"
   ]
  },
  {
   "cell_type": "code",
   "execution_count": 26,
   "id": "4c0b06d0",
   "metadata": {},
   "outputs": [
    {
     "data": {
      "image/png": "[encoded data removed]",
      "text/plain": [
       "<Figure size 640x480 with 2 Axes>"
      ]
     },
     "metadata": {},
     "output_type": "display_data"
    }
   ],
   "source": [
    "# print the confusion matrix\n",
    "confusion_matrix = metrics.confusion_matrix(y_test, y_pred)\n",
    "cm_display = metrics.ConfusionMatrixDisplay(confusion_matrix = confusion_matrix, display_labels = ['Not Bot', 'Bot'])\n",
    "cm_display.plot()\n",
    "plt.show()"
   ]
  },
  {
   "cell_type": "code",
   "execution_count": null,
   "id": "ce8abc17",
   "metadata": {},
   "outputs": [],
   "source": []
  }
 ],
 "metadata": {
  "kernelspec": {
   "display_name": "Python 3 (ipykernel)",
   "language": "python",
   "name": "python3"
  },
  "language_info": {
   "codemirror_mode": {
    "name": "ipython",
    "version": 3
   },
   "file_extension": ".py",
   "mimetype": "text/x-python",
   "name": "python",
   "nbconvert_exporter": "python",
   "pygments_lexer": "ipython3",
   "version": "3.10.4"
  }
 },
 "nbformat": 4,
 "nbformat_minor": 5
}
