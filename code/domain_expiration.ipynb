{
 "cells": [
  {
   "cell_type": "code",
   "execution_count": 11,
   "id": "334ab189",
   "metadata": {},
   "outputs": [],
   "source": [
    "import csv\n",
    "import whois\n",
    "\n",
    "# define the name of your csv file\n",
    "csv_file_name = \"output.csv\"\n",
    "\n",
    "# open the csv file\n",
    "with open(csv_file_name, \"r\") as csv_file:\n",
    "    # read the csv file using a csv reader\n",
    "    csv_reader = csv.reader(csv_file)\n",
    "    \n",
    "    # extract the header row\n",
    "    header_row = next(csv_reader)\n",
    "    \n",
    "    # add a new column for domain expiration date to the header row\n",
    "    header_row.append(\"domain_expiration_date\")\n",
    "    \n",
    "    # create a new csv file to write the output\n",
    "    output_csv_file = open(\"output.csv\", \"w\", newline=\"\")\n",
    "    \n",
    "    # write the header row to the new csv file\n",
    "    csv_writer = csv.writer(output_csv_file)\n",
    "    csv_writer.writerow(header_row)\n",
    "    \n",
    "    # iterate over the remaining rows in the csv file\n",
    "    for row in csv_reader:\n",
    "        # extract the url from the expanded_url column\n",
    "        url = row[header_row.index(\"expanded_url\")]\n",
    "        \n",
    "        # use the whois library to get the expiration date for the domain\n",
    "        try:\n",
    "            domain_info = whois.whois(url)\n",
    "            domain_expiration_date = domain_info.expiration_date\n",
    "        except Exception as e:\n",
    "            # if there was an error getting the domain information, set the\n",
    "            # expiration date to \"N/A\"\n",
    "            domain_expiration_date = \"N/A\"\n",
    "            print(f\"Error getting domain information for {url}: {e}\")\n",
    "        \n",
    "        # append the domain expiration date to the row\n",
    "        row.append(domain_expiration_date)\n",
    "        \n",
    "        # write the updated row to the output csv file\n",
    "        csv_writer.writerow(row)\n",
    "    \n",
    "    # close the output csv file\n",
    "    output_csv_file.close()\n"
   ]
  },
  {
   "cell_type": "code",
   "execution_count": null,
   "id": "5544c2a4",
   "metadata": {},
   "outputs": [],
   "source": []
  }
 ],
 "metadata": {
  "kernelspec": {
   "display_name": "Python 3 (ipykernel)",
   "language": "python",
   "name": "python3"
  },
  "language_info": {
   "codemirror_mode": {
    "name": "ipython",
    "version": 3
   },
   "file_extension": ".py",
   "mimetype": "text/x-python",
   "name": "python",
   "nbconvert_exporter": "python",
   "pygments_lexer": "ipython3",
   "version": "3.10.4"
  }
 },
 "nbformat": 4,
 "nbformat_minor": 5
}
