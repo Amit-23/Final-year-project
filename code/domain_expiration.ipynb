{
 "cells": [
  {
   "cell_type": "code",
   "execution_count": 2,
   "id": "330d3741",
   "metadata": {},
   "outputs": [
    {
     "name": "stdout",
     "output_type": "stream",
     "text": [
      "Error: unsupported operand type(s) for -: 'NoneType' and 'datetime.datetime'\n",
      "Error: unsupported operand type(s) for -: 'NoneType' and 'datetime.datetime'\n",
      "Error: unsupported operand type(s) for -: 'NoneType' and 'datetime.datetime'\n",
      "Error: unsupported operand type(s) for -: 'NoneType' and 'datetime.datetime'\n",
      "Error: unsupported operand type(s) for -: 'NoneType' and 'datetime.datetime'\n",
      "Error: unsupported operand type(s) for -: 'NoneType' and 'datetime.datetime'\n",
      "Error: unsupported operand type(s) for -: 'NoneType' and 'datetime.datetime'\n",
      "Error: unsupported operand type(s) for -: 'NoneType' and 'datetime.datetime'\n",
      "Error: unsupported operand type(s) for -: 'NoneType' and 'datetime.datetime'\n",
      "Error: unsupported operand type(s) for -: 'NoneType' and 'datetime.datetime'\n",
      "Error: unsupported operand type(s) for -: 'NoneType' and 'datetime.datetime'\n"
     ]
    }
   ],
   "source": [
    "import csv\n",
    "import whois\n",
    "from datetime import datetime\n",
    "\n",
    "def get_domain_expiration(url):\n",
    "    try:\n",
    "        domain_info = whois.whois(url)\n",
    "        expiration_date = domain_info.expiration_date\n",
    "        if isinstance(expiration_date, list):\n",
    "            # for some domains, expiration date may be a list of dates\n",
    "            expiration_date = expiration_date[0]\n",
    "        days_left = (expiration_date - datetime.now()).days\n",
    "        return days_left\n",
    "    except Exception as e:\n",
    "        print(f\"Error: {e}\")\n",
    "        return None\n",
    "\n",
    "input_file = \"output.csv\"\n",
    "output_file = \"final.csv\"\n",
    "url_column = \"expanded_url\"\n",
    "expiration_column = \"expiration_days_left\"\n",
    "\n",
    "# Set the field size limit to a large value\n",
    "csv.field_size_limit(1000000000)\n",
    "\n",
    "with open(input_file, 'r', encoding='utf-8') as f_in, open(output_file, 'w', newline='', encoding='utf-8') as f_out:\n",
    "    reader = csv.DictReader(f_in)\n",
    "    writer = csv.DictWriter(f_out, fieldnames=reader.fieldnames + [expiration_column])\n",
    "    writer.writeheader()\n",
    "    \n",
    "    for row in reader:\n",
    "        url = row[url_column]\n",
    "        expiration_days_left = get_domain_expiration(url)\n",
    "        row[expiration_column] = expiration_days_left\n",
    "        writer.writerow(row)\n",
    "    \n",
    "    # Re-open the input file after the header has been read, so that it can be re-iterated over\n",
    "    f_in.seek(0)\n",
    "    reader = csv.DictReader(f_in)\n",
    "    \n",
    "    for i, row in enumerate(reader):\n",
    "        if i == 0:\n",
    "            continue  # Skip header row\n",
    "        if row[url_column]:\n",
    "            url = row[url_column]\n",
    "            expiration_days_left = get_domain_expiration(url)\n",
    "            row[expiration_column] = expiration_days_left\n",
    "        writer.writerow(row)\n"
   ]
  },
  {
   "cell_type": "code",
   "execution_count": null,
   "id": "2a920ed8",
   "metadata": {},
   "outputs": [],
   "source": []
  }
 ],
 "metadata": {
  "kernelspec": {
   "display_name": "Python 3 (ipykernel)",
   "language": "python",
   "name": "python3"
  },
  "language_info": {
   "codemirror_mode": {
    "name": "ipython",
    "version": 3
   },
   "file_extension": ".py",
   "mimetype": "text/x-python",
   "name": "python",
   "nbconvert_exporter": "python",
   "pygments_lexer": "ipython3",
   "version": "3.10.4"
  }
 },
 "nbformat": 4,
 "nbformat_minor": 5
}
