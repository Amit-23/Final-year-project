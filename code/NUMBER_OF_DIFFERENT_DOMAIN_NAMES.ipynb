{
 "cells": [
  {
   "cell_type": "code",
   "execution_count": 10,
   "id": "729cf6b6",
   "metadata": {},
   "outputs": [],
   "source": [
    "import pandas as pd\n",
    "from urllib.parse import urlparse\n",
    "\n",
    "# Read the CSV file\n",
    "df = pd.read_csv('output.csv')\n",
    "\n",
    "# Define a function to extract the domain name from a URL\n",
    "def get_domain(url):\n",
    "    return urlparse(url).netloc\n",
    "\n",
    "# Apply the function to the \"expanded_url\" column to create a new column with domain names\n",
    "df['domain_name'] = df['expanded_url'].apply(get_domain)\n",
    "\n",
    "# Group by the original URL and count the number of unique domain names\n",
    "unique_domains = df.groupby('expanded_url')['domain_name'].nunique()\n",
    "\n",
    "# Create a dictionary mapping URLs to the number of unique domain names\n",
    "url_dict = unique_domains.to_dict()\n",
    "\n",
    "# Create a new column with the number of unique domain names for each URL\n",
    "df['unique_domains'] = df['expanded_url'].map(url_dict)\n",
    "\n",
    "# Save the updated dataframe to a new CSV file\n",
    "df.to_csv('updated_output.csv', index=False)\n"
   ]
  },
  {
   "cell_type": "code",
   "execution_count": null,
   "id": "200849a5",
   "metadata": {},
   "outputs": [],
   "source": []
  }
 ],
 "metadata": {
  "kernelspec": {
   "display_name": "Python 3 (ipykernel)",
   "language": "python",
   "name": "python3"
  },
  "language_info": {
   "codemirror_mode": {
    "name": "ipython",
    "version": 3
   },
   "file_extension": ".py",
   "mimetype": "text/x-python",
   "name": "python",
   "nbconvert_exporter": "python",
   "pygments_lexer": "ipython3",
   "version": "3.10.4"
  }
 },
 "nbformat": 4,
 "nbformat_minor": 5
}
