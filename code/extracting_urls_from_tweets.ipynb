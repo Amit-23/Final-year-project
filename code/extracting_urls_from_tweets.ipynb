{
 "cells": [
  {
   "cell_type": "code",
   "execution_count": 7,
   "id": "8c62845b",
   "metadata": {},
   "outputs": [
    {
     "name": "stdout",
     "output_type": "stream",
     "text": [
      "                    id                                               text  \\\n",
      "0   593862000000000000  LAPD pursuit, suspects bailed - watch live: ht...   \n",
      "1   593861000000000000   LAPD pursuit, watch live: http://t.co/sKuWTRx1dF   \n",
      "2   593783000000000000  [blog post:] iPhone Wallpaper: Train Signal ht...   \n",
      "3   593400000000000000  WRECK-less driving is technically correct sinc...   \n",
      "4   593399000000000000  RT @ABC7: #CHASE: Pursuit started around 540am...   \n",
      "..                 ...                                                ...   \n",
      "94  585442000000000000  I'm happy to pay for the overpriced parking fr...   \n",
      "95  585441000000000000  I've seen this screen four times now on the @R...   \n",
      "96  585440000000000000  Then the @Rangers website releases the parking...   \n",
      "97  585440000000000000  The @Rangers website says \\please wait while w...   \n",
      "98  585440000000000000  Trying to buy parking for the ACM Party For A ...   \n",
      "\n",
      "    Unnamed: 2  user_id                     url  \n",
      "0          NaN   722623  http://t.co/zsd0ylsnux  \n",
      "1          NaN   722623  http://t.co/sKuWTRx1dF  \n",
      "2          NaN   722623  http://t.co/ejG7oC0blm  \n",
      "3          NaN   722623  http://t.co/Ve4TLwcMN2  \n",
      "4          NaN   722623                          \n",
      "..         ...      ...                     ...  \n",
      "94         NaN   722623                          \n",
      "95         NaN   722623  http://t.co/kgLrb1GezI  \n",
      "96         NaN   722623                          \n",
      "97         NaN   722623                          \n",
      "98         NaN   722623                          \n",
      "\n",
      "[99 rows x 5 columns]\n"
     ]
    }
   ],
   "source": [
    "import pandas as pd\n",
    "import re\n",
    "\n",
    "# define function to extract URLs from tweet content\n",
    "def extract_url(text):\n",
    "    if isinstance(text, str):\n",
    "        #urls = re.findall('https?://(?:[-\\w.]|(?:%[\\da-fA-F]{2}))+', text)\n",
    "        urls = re.findall('https?://(?:[-\\w.]|(?:%[\\da-fA-F]{2})|[/?=&])+', text)\n",
    "\n",
    "        \n",
    "        result = ';'.join(urls)\n",
    "    else:\n",
    "        result = ''\n",
    "    return result\n",
    "\n",
    "# read Excel file into a DataFrame with engine parameter\n",
    "df = pd.read_excel('genu1.xlsx', engine='openpyxl')\n",
    "\n",
    "# apply function to extract URLs and create new 'url' column\n",
    "df['url'] = df['text'].apply(lambda x: str(extract_url(x)))\n",
    "\n",
    "# group URLs by user ID and join with semicolon separator\n",
    "#df['url'] = df.groupby('user_id')['url'].apply(lambda x: ';'.join(list(x)))\n",
    "\n",
    "# print out DataFrame to check if \"url\" column was created properly\n",
    "print(df)\n",
    "\n",
    "# write new DataFrame to CSV file with encoding parameter\n",
    "df.to_csv('genuine_with_url.xlsx', index=False, encoding='utf-8')\n"
   ]
  },
  {
   "cell_type": "code",
   "execution_count": null,
   "id": "cccc362c",
   "metadata": {},
   "outputs": [],
   "source": []
  }
 ],
 "metadata": {
  "kernelspec": {
   "display_name": "Python 3 (ipykernel)",
   "language": "python",
   "name": "python3"
  },
  "language_info": {
   "codemirror_mode": {
    "name": "ipython",
    "version": 3
   },
   "file_extension": ".py",
   "mimetype": "text/x-python",
   "name": "python",
   "nbconvert_exporter": "python",
   "pygments_lexer": "ipython3",
   "version": "3.10.4"
  }
 },
 "nbformat": 4,
 "nbformat_minor": 5
}
