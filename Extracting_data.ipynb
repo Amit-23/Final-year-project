{
 "cells": [
  {
   "cell_type": "code",
   "execution_count": 50,
   "id": "452426d4",
   "metadata": {},
   "outputs": [],
   "source": [
    "import snscrape.modules.twitter as sntwitter\n",
    "import pandas as pd"
   ]
  },
  {
   "cell_type": "code",
   "execution_count": 51,
   "id": "00ede3bd",
   "metadata": {},
   "outputs": [],
   "source": [
    "query = \"(from:BCCI) until:2023-01-01 since:2022-09-15\"\n",
    "\n",
    "tweets =[]\n",
    "limit = 3000"
   ]
  },
  {
   "cell_type": "code",
   "execution_count": 52,
   "id": "b598d04f",
   "metadata": {},
   "outputs": [],
   "source": [
    "for tweet in sntwitter.TwitterSearchScraper(query).get_items():\n",
    "    if len(tweets) == limit:\n",
    "        break\n",
    "    else:\n",
    "        tweets.append([tweet.date, tweet.user.username, tweet.content])\n",
    "df = pd.DataFrame(tweets, columns=['Date', 'Username', 'Tweet'])\n",
    "    "
   ]
  },
  {
   "cell_type": "code",
   "execution_count": 53,
   "id": "a4688149",
   "metadata": {},
   "outputs": [],
   "source": [
    "df.to_csv('tweets.csv', sep=',')"
   ]
  }
 ],
 "metadata": {
  "kernelspec": {
   "display_name": "Python 3 (ipykernel)",
   "language": "python",
   "name": "python3"
  },
  "language_info": {
   "codemirror_mode": {
    "name": "ipython",
    "version": 3
   },
   "file_extension": ".py",
   "mimetype": "text/x-python",
   "name": "python",
   "nbconvert_exporter": "python",
   "pygments_lexer": "ipython3",
   "version": "3.10.4"
  }
 },
 "nbformat": 4,
 "nbformat_minor": 5
}
